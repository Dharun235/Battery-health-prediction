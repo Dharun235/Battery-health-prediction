{
 "cells": [
  {
   "cell_type": "markdown",
   "id": "e8ffe8dc-e007-449c-8a92-2109ae74948a",
   "metadata": {},
   "source": [
    "# Load Dataset"
   ]
  },
  {
   "cell_type": "code",
   "execution_count": 42,
   "id": "07b06bbf-5aee-44b2-8303-fc8c8731c777",
   "metadata": {},
   "outputs": [],
   "source": [
    "import numpy as np\n",
    "import random\n",
    "import math\n",
    "import os\n",
    "import scipy.io\n",
    "import torch\n",
    "import torch.nn as nn\n",
    "import torch.nn.functional as F\n",
    "from torch.utils.data import Dataset, DataLoader, TensorDataset, random_split\n",
    "import transformers\n",
    "import matplotlib.pyplot as plt\n",
    "import pandas as pd\n",
    "%matplotlib inline\n",
    "\n",
    "from datetime import datetime\n",
    "from sklearn.preprocessing import StandardScaler\n",
    "from sklearn.preprocessing import MinMaxScaler\n",
    "from sklearn.model_selection import KFold\n",
    "from sklearn.model_selection import train_test_split\n",
    "from sklearn.metrics import mean_squared_error"
   ]
  },
  {
   "cell_type": "code",
   "execution_count": 3,
   "id": "ce61aaa2-c145-425e-8c9a-b75d9b989712",
   "metadata": {},
   "outputs": [],
   "source": [
    "def convert_to_time(hmm):\n",
    "    # Ensure elements are scalar ints (handles numpy objects)\n",
    "    hmm = [int(x.item() if isinstance(x, np.ndarray) and x.size == 1 else int(x)) for x in hmm]\n",
    "    year, month, day, hour, minute, second = hmm\n",
    "    return datetime(year=year, month=month, day=day, hour=hour, minute=minute, second=second)\n",
    "\n",
    "def loadMat(matfile):\n",
    "    data = scipy.io.loadmat(matfile)\n",
    "    filename = matfile.split(\"/\")[-1].split(\".\")[0]\n",
    "    col = data[filename]\n",
    "    col = col[0][0][0][0]\n",
    "    size = col.shape[0]\n",
    "\n",
    "    data_list = []\n",
    "    for i in range(size):\n",
    "        k = list(col[i][3][0].dtype.fields.keys())\n",
    "        d1, d2 = {}, {}\n",
    "\n",
    "        if str(col[i][0][0]) != 'impedance':\n",
    "            for j in range(len(k)):\n",
    "                t = col[i][3][0][0][j][0]\n",
    "                l = [t[m] for m in range(len(t))]\n",
    "                d2[k[j]] = l\n",
    "\n",
    "        # Extract possible array values safely\n",
    "        type_val = col[i][0][0]\n",
    "        temp_val = col[i][1][0]\n",
    "        time_val = col[i][2][0]  # 6-element array (year..sec)\n",
    "\n",
    "        # Convert type and temp safely\n",
    "        if isinstance(type_val, np.ndarray) and type_val.size == 1:\n",
    "            type_val = type_val.item()\n",
    "        if isinstance(temp_val, np.ndarray) and temp_val.size == 1:\n",
    "            temp_val = temp_val.item()\n",
    "\n",
    "        d1['type'] = str(type_val)\n",
    "        d1['temp'] = int(temp_val)\n",
    "        d1['time'] = str(convert_to_time(time_val))\n",
    "        d1['data'] = d2\n",
    "\n",
    "        data_list.append(d1)\n",
    "\n",
    "    return data_list\n",
    "\n",
    "# get input features (all columns except capacity)\n",
    "def getBatteryInputs(Battery, feature_list=None, include_temp=True):\n",
    "    \"\"\"\n",
    "    Returns inputs for all discharge cycles and the feature names.\n",
    "    Automatically removes features that are constant across all batteries.\n",
    "    \"\"\"\n",
    "    inputs = []\n",
    "\n",
    "    # Determine initial feature list from first discharge cycle\n",
    "    if feature_list is None:\n",
    "        for Bat in Battery:\n",
    "            if Bat['type'] == 'discharge':\n",
    "                feature_list = list(Bat['data'].keys())\n",
    "                if 'Capacity' in feature_list:\n",
    "                    feature_list.remove('Capacity')\n",
    "                break\n",
    "\n",
    "    # Include temp if requested\n",
    "    if include_temp:\n",
    "        feature_list.append('temp')\n",
    "\n",
    "    # Build a 2D array: rows = cycles across all batteries, cols = features\n",
    "    all_data = []\n",
    "    for Bat in Battery:\n",
    "        if Bat['type'] == 'discharge':\n",
    "            row = []\n",
    "            for f in feature_list:\n",
    "                if f == 'temp':\n",
    "                    row.append(Bat['temp'])\n",
    "                else:\n",
    "                    row.append(Bat['data'].get(f, [0])[0])\n",
    "            all_data.append(row)\n",
    "    all_data = np.array(all_data, dtype=np.float32)  # shape: (num_cycles_total, num_features)\n",
    "\n",
    "    # Remove features that are constant (same value in all rows)\n",
    "    is_constant = np.all(all_data == all_data[0, :], axis=0)\n",
    "    cleaned_data = all_data[:, ~is_constant]\n",
    "    cleaned_feature_list = [f for f, keep in zip(feature_list, ~is_constant) if keep]\n",
    "\n",
    "    return cleaned_data, cleaned_feature_list\n",
    "\n",
    "# get capacity data\n",
    "def getBatteryCapacity(Battery):\n",
    "    \"\"\"\n",
    "    Returns 1D array of capacity for all discharge cycles.\n",
    "    \"\"\"\n",
    "    capacities = []\n",
    "    for Bat in Battery:\n",
    "        if Bat['type'] == 'discharge':\n",
    "            capacities.append(Bat['data']['Capacity'][0])\n",
    "    return np.array(capacities, dtype=np.float32)"
   ]
  },
  {
   "cell_type": "code",
   "execution_count": 35,
   "id": "28f4fc06-f6a8-49f8-a0a5-96f68cd735ad",
   "metadata": {},
   "outputs": [
    {
     "name": "stdout",
     "output_type": "stream",
     "text": [
      "Loading B0005\n",
      "Loading B0006\n",
      "Loading B0007\n",
      "Loading B0018\n"
     ]
    }
   ],
   "source": [
    "Battery_list = ['B0005', 'B0006', 'B0007', 'B0018']\n",
    "dir_path = 'dataset/'\n",
    "\n",
    "Battery_dict = {}\n",
    "for name in Battery_list:\n",
    "    print(f'Loading {name}')\n",
    "    path = dir_path + name + '.mat'\n",
    "    data = loadMat(path)\n",
    "\n",
    "    X, feature_list = getBatteryInputs(data)      # inputs for discharge cycles\n",
    "    y = getBatteryCapacity(data)    # capacity as target\n",
    "\n",
    "    Battery_dict[name] = (X, y)"
   ]
  },
  {
   "cell_type": "code",
   "execution_count": 64,
   "id": "978ad017-fa22-4157-b28b-cabb2c4a1fe1",
   "metadata": {},
   "outputs": [],
   "source": [
    "def create_sequences(X, y, seq_len=20):\n",
    "    X_seq, y_seq = [], []\n",
    "    for i in range(len(X) - seq_len + 1):\n",
    "        X_seq.append(X[i:i+seq_len])\n",
    "        y_seq.append(y[i+seq_len-1])\n",
    "    X_seq = torch.stack(X_seq)  # shape [num_samples, seq_len, num_features]\n",
    "    y_seq = torch.stack(y_seq)  # shape [num_samples]\n",
    "    return X_seq, y_seq"
   ]
  },
  {
   "cell_type": "code",
   "execution_count": 65,
   "id": "e0c19df1-454b-4085-be07-ac05e5b42280",
   "metadata": {},
   "outputs": [
    {
     "name": "stderr",
     "output_type": "stream",
     "text": [
      "C:\\Users\\dhruv\\AppData\\Local\\Temp\\ipykernel_23084\\2899712007.py:4: UserWarning: To copy construct from a tensor, it is recommended to use sourceTensor.clone().detach() or sourceTensor.clone().detach().requires_grad_(True), rather than torch.tensor(sourceTensor).\n",
      "  X_train_all = torch.tensor(X_train_all, dtype=torch.float32)\n",
      "C:\\Users\\dhruv\\AppData\\Local\\Temp\\ipykernel_23084\\2899712007.py:5: UserWarning: To copy construct from a tensor, it is recommended to use sourceTensor.clone().detach() or sourceTensor.clone().detach().requires_grad_(True), rather than torch.tensor(sourceTensor).\n",
      "  y_train_all = torch.tensor(y_train_all, dtype=torch.float32)\n"
     ]
    }
   ],
   "source": [
    "seq_len = 20\n",
    "\n",
    "# Convert all inputs to torch tensors first\n",
    "X_train_all = torch.tensor(X_train_all, dtype=torch.float32)\n",
    "y_train_all = torch.tensor(y_train_all, dtype=torch.float32)\n",
    "\n",
    "# Then create sequences\n",
    "X_train_seq, y_train_seq = create_sequences(X_train_all[:split_idx], y_train_all[:split_idx], seq_len)\n",
    "X_val_seq, y_val_seq = create_sequences(X_train_all[split_idx-seq_len:], y_train_all[split_idx-seq_len:], seq_len)\n",
    "\n",
    "# For B0018 test\n",
    "X_test_seq, y_test_seq = create_sequences(\n",
    "    torch.tensor(Battery_dict['B0018'][0], dtype=torch.float32),\n",
    "    torch.tensor(Battery_dict['B0018'][1], dtype=torch.float32),\n",
    "    seq_len\n",
    ")"
   ]
  },
  {
   "cell_type": "markdown",
   "id": "9b9e51f3-6258-4a02-ac80-b687287e016a",
   "metadata": {},
   "source": [
    "# Deep Learning Model"
   ]
  },
  {
   "cell_type": "code",
   "execution_count": 66,
   "id": "691861e4-c1d7-43d0-88d6-ddab036b3fe3",
   "metadata": {},
   "outputs": [],
   "source": [
    "class PositionalEncoding(nn.Module):\n",
    "    def __init__(self, d_model, max_len=5000):\n",
    "        super().__init__()\n",
    "        pe = torch.zeros(max_len, d_model)\n",
    "        position = torch.arange(0, max_len, dtype=torch.float).unsqueeze(1)\n",
    "        div_term = torch.exp(torch.arange(0, d_model, 2).float() * (-torch.log(torch.tensor(10000.0)) / d_model))\n",
    "        pe[:, 0::2] = torch.sin(position * div_term)\n",
    "        pe[:, 1::2] = torch.cos(position * div_term)\n",
    "        self.register_buffer('pe', pe.unsqueeze(0))  # shape: [1, max_len, d_model]\n",
    "\n",
    "    def forward(self, x):\n",
    "        seq_len = x.size(1)\n",
    "        return x + self.pe[:, :seq_len, :]"
   ]
  },
  {
   "cell_type": "code",
   "execution_count": 72,
   "id": "576b8418-36ed-4b5b-8377-fb67a5483f32",
   "metadata": {},
   "outputs": [],
   "source": [
    "class BatteryTransformerWeightedSeq(nn.Module):\n",
    "    def __init__(self, num_features, d_model=128, nhead=4, num_layers=2,\n",
    "                 dim_feedforward=256, dropout=0.1, last_frac=0.3, last_weight=3.0):\n",
    "        super().__init__()\n",
    "        self.input_proj = nn.Linear(num_features, d_model)\n",
    "        self.pos_encoder = PositionalEncoding(d_model)\n",
    "        \n",
    "        encoder_layer = nn.TransformerEncoderLayer(\n",
    "            d_model=d_model,\n",
    "            nhead=nhead,\n",
    "            dim_feedforward=dim_feedforward,\n",
    "            dropout=dropout,\n",
    "            batch_first=True\n",
    "        )\n",
    "        self.encoder = nn.TransformerEncoder(encoder_layer, num_layers=num_layers)\n",
    "        self.dropout = nn.Dropout(dropout)\n",
    "        self.regressor = nn.Linear(d_model, 1)\n",
    "\n",
    "        self.last_frac = last_frac\n",
    "        self.last_weight = last_weight\n",
    "\n",
    "    def forward(self, x):\n",
    "        \"\"\"\n",
    "        x: [batch, seq_len, num_features]\n",
    "        returns: [batch, seq_len] (per-timestep capacity prediction)\n",
    "        \"\"\"\n",
    "        batch_size, seq_len, _ = x.size()\n",
    "        x = self.input_proj(x)\n",
    "        x = self.pos_encoder(x)\n",
    "        x = self.encoder(x)  # [batch, seq_len, d_model]\n",
    "\n",
    "        # Weighted attention across timesteps (optional)\n",
    "        weights = torch.ones(seq_len, device=x.device)\n",
    "        last_start = int(seq_len * (1 - self.last_frac))\n",
    "        weights[last_start:] = self.last_weight\n",
    "        weights = weights / weights.sum()  # normalize\n",
    "        x = x * weights.unsqueeze(0).unsqueeze(-1)  # [batch, seq_len, d_model]\n",
    "\n",
    "        x = self.dropout(x)\n",
    "        out = self.regressor(x).squeeze(-1)  # [batch, seq_len]\n",
    "        return out"
   ]
  },
  {
   "cell_type": "code",
   "execution_count": 68,
   "id": "d6aeb156-5ddd-407b-be4d-2b55f72213f0",
   "metadata": {},
   "outputs": [],
   "source": [
    "def train_model(model, X_train, y_train, X_val, y_val, \n",
    "                epochs=500, lr=1e-3, patience=30, device='cpu'):\n",
    "    \n",
    "    model.to(device)\n",
    "    X_train, y_train = X_train.to(device), y_train.to(device)\n",
    "    X_val, y_val = X_val.to(device), y_val.to(device)\n",
    "    \n",
    "    optimizer = torch.optim.Adam(model.parameters(), lr=lr)\n",
    "    criterion = nn.HuberLoss()\n",
    "    \n",
    "    best_loss = float('inf')\n",
    "    patience_counter = 0\n",
    "    best_model = None\n",
    "    \n",
    "    for epoch in range(epochs):\n",
    "        model.train()\n",
    "        optimizer.zero_grad()\n",
    "        y_pred = model(X_train)\n",
    "        loss = criterion(y_pred, y_train)\n",
    "        loss.backward()\n",
    "        optimizer.step()\n",
    "        \n",
    "        model.eval()\n",
    "        with torch.no_grad():\n",
    "            val_pred = model(X_val)\n",
    "            val_loss = criterion(val_pred, y_val).item()\n",
    "        \n",
    "        if val_loss < best_loss:\n",
    "            best_loss = val_loss\n",
    "            best_model = model.state_dict()\n",
    "            patience_counter = 0\n",
    "        else:\n",
    "            patience_counter += 1\n",
    "        \n",
    "        if (epoch+1) % 50 == 0 or epoch == 0:\n",
    "            print(f\"Epoch {epoch+1}/{epochs} | Train Loss: {loss.item():.6f} | Val Loss: {val_loss:.6f}\")\n",
    "        \n",
    "        if patience_counter >= patience:\n",
    "            print(f\"Early stopping at epoch {epoch+1}\")\n",
    "            break\n",
    "    \n",
    "    model.load_state_dict(best_model)\n",
    "    return model"
   ]
  },
  {
   "cell_type": "code",
   "execution_count": 73,
   "id": "7401ce6f-1e3c-47fe-98d8-ff043d1f3e24",
   "metadata": {},
   "outputs": [],
   "source": [
    "def evaluate_model(model, X_test, y_test, device='cpu', battery_name='Battery'):\n",
    "    model.eval()\n",
    "    X_test, y_test = X_test.to(device), y_test.to(device)\n",
    "    with torch.no_grad():\n",
    "        y_pred = model(X_test).cpu().numpy()\n",
    "        y_true = y_test.cpu().numpy()\n",
    "    rmse = ((y_true - y_pred)**2).mean()**0.5\n",
    "    \n",
    "    plt.figure(figsize=(8,4))\n",
    "    plt.plot(y_true, label='True Capacity')\n",
    "    plt.plot(y_pred, label='Predicted Capacity')\n",
    "    plt.title(f'{battery_name} | RMSE={rmse:.4f}')\n",
    "    plt.xlabel('Cycle Index')\n",
    "    plt.ylabel('Capacity')\n",
    "    plt.legend()\n",
    "    plt.show()\n",
    "    \n",
    "    return rmse"
   ]
  },
  {
   "cell_type": "code",
   "execution_count": 74,
   "id": "c167f910-f06d-4d43-82dd-d27aa2669356",
   "metadata": {},
   "outputs": [
    {
     "name": "stdout",
     "output_type": "stream",
     "text": [
      "Epoch 1/500 | Train Loss: 1.017879 | Val Loss: 0.189890\n",
      "Epoch 50/500 | Train Loss: 0.036274 | Val Loss: 0.004782\n",
      "Early stopping at epoch 83\n"
     ]
    }
   ],
   "source": [
    "device = 'cuda' if torch.cuda.is_available() else 'cpu'\n",
    "model = BatteryTransformerWeighted(num_features=X_train_all.shape[1],\n",
    "                                   d_model=128, nhead=4, num_layers=2,\n",
    "                                   dim_feedforward=256, dropout=0.1,\n",
    "                                   last_frac=0.3, last_weight=3.0)\n",
    "\n",
    "model = train_model(model, X_train_seq, y_train_seq, X_val_seq, y_val_seq,\n",
    "                    epochs=500, lr=1e-3, patience=50, device=device)"
   ]
  },
  {
   "cell_type": "code",
   "execution_count": 75,
   "id": "01c5703e-719a-477c-8c1e-67b9342841ad",
   "metadata": {},
   "outputs": [
    {
     "data": {
      "image/png": "[encoded data removed]",
      "text/plain": [
       "<Figure size 800x400 with 1 Axes>"
      ]
     },
     "metadata": {},
     "output_type": "display_data"
    },
    {
     "name": "stdout",
     "output_type": "stream",
     "text": [
      "Test RMSE for B0018: 0.1616\n"
     ]
    }
   ],
   "source": [
    "rmse_B0018 = evaluate_model(model, X_test_seq, y_test_seq, device=device, battery_name='B0018')\n",
    "print(f\"Test RMSE for B0018: {rmse_B0018:.4f}\")"
   ]
  },
  {
   "cell_type": "code",
   "execution_count": null,
   "id": "9e163680-ee5f-436f-a15c-2fe72d39f508",
   "metadata": {},
   "outputs": [],
   "source": []
  }
 ],
 "metadata": {
  "kernelspec": {
   "display_name": "Python 3 (ipykernel)",
   "language": "python",
   "name": "python3"
  },
  "language_info": {
   "codemirror_mode": {
    "name": "ipython",
    "version": 3
   },
   "file_extension": ".py",
   "mimetype": "text/x-python",
   "name": "python",
   "nbconvert_exporter": "python",
   "pygments_lexer": "ipython3",
   "version": "3.11.13"
  }
 },
 "nbformat": 4,
 "nbformat_minor": 5
}
